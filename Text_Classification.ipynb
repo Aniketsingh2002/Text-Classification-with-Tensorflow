{
 "cells": [
  {
   "cell_type": "code",
   "execution_count": null,
   "metadata": {
    "id": "JDad4jwBTI8Q"
   },
   "outputs": [],
   "source": [
    "import numpy as np\n",
    "\n",
    "import tensorflow as tf\n",
    "import tensorflow_hub as hub\n",
    "import tensorflow_datasets as tfds"
   ]
  },
  {
   "cell_type": "code",
   "execution_count": null,
   "metadata": {
    "id": "x_BmWlpATbJ1"
   },
   "outputs": [],
   "source": [
    "train_data, val_data, test_data = tfds.load(\n",
    "    name=\"imdb_reviews\",\n",
    "    split=('train[:60%]', 'train[60%:]', 'test'),\n",
    "    as_supervised=True)"
   ]
  },
  {
   "cell_type": "code",
   "execution_count": null,
   "metadata": {
    "id": "fv6Dm2CwThJs"
   },
   "outputs": [],
   "source": [
    "train_example_batch,train_labels_batch=next(iter(train_data.batch(5)))"
   ]
  },
  {
   "cell_type": "code",
   "execution_count": null,
   "metadata": {
    "colab": {
     "base_uri": "https://localhost:8080/"
    },
    "id": "wOzKJ1rfUGEh",
    "outputId": "17a25144-b1e3-4680-dd04-61371abc7757"
   },
   "outputs": [
    {
     "data": {
      "text/plain": [
       "<tf.Tensor: shape=(5,), dtype=string, numpy=\n",
       "array([b\"This was an absolutely terrible movie. Don't be lured in by Christopher Walken or Michael Ironside. Both are great actors, but this must simply be their worst role in history. Even their great acting could not redeem this movie's ridiculous storyline. This movie is an early nineties US propaganda piece. The most pathetic scenes were those when the Columbian rebels were making their cases for revolutions. Maria Conchita Alonso appeared phony, and her pseudo-love affair with Walken was nothing but a pathetic emotional plug in a movie that was devoid of any real meaning. I am disappointed that there are movies like this, ruining actor's like Christopher Walken's good name. I could barely sit through it.\",\n",
       "       b'I have been known to fall asleep during films, but this is usually due to a combination of things including, really tired, being warm and comfortable on the sette and having just eaten a lot. However on this occasion I fell asleep because the film was rubbish. The plot development was constant. Constantly slow and boring. Things seemed to happen, but with no explanation of what was causing them or why. I admit, I may have missed part of the film, but i watched the majority of it and everything just seemed to happen of its own accord without any real concern for anything else. I cant recommend this film at all.',\n",
       "       b'Mann photographs the Alberta Rocky Mountains in a superb fashion, and Jimmy Stewart and Walter Brennan give enjoyable performances as they always seem to do. <br /><br />But come on Hollywood - a Mountie telling the people of Dawson City, Yukon to elect themselves a marshal (yes a marshal!) and to enforce the law themselves, then gunfighters battling it out on the streets for control of the town? <br /><br />Nothing even remotely resembling that happened on the Canadian side of the border during the Klondike gold rush. Mr. Mann and company appear to have mistaken Dawson City for Deadwood, the Canadian North for the American Wild West.<br /><br />Canadian viewers be prepared for a Reefer Madness type of enjoyable howl with this ludicrous plot, or, to shake your head in disgust.',\n",
       "       b'This is the kind of film for a snowy Sunday afternoon when the rest of the world can go ahead with its own business as you descend into a big arm-chair and mellow for a couple of hours. Wonderful performances from Cher and Nicolas Cage (as always) gently row the plot along. There are no rapids to cross, no dangerous waters, just a warm and witty paddle through New York life at its best. A family film in every sense and one that deserves the praise it received.',\n",
       "       b'As others have mentioned, all the women that go nude in this film are mostly absolutely gorgeous. The plot very ably shows the hypocrisy of the female libido. When men are around they want to be pursued, but when no \"men\" are around, they become the pursuers of a 14 year old boy. And the boy becomes a man really fast (we should all be so lucky at this age!). He then gets up the courage to pursue his true love.'],\n",
       "      dtype=object)>"
      ]
     },
     "execution_count": 30,
     "metadata": {},
     "output_type": "execute_result"
    }
   ],
   "source": [
    "train_example_batch"
   ]
  },
  {
   "cell_type": "code",
   "execution_count": null,
   "metadata": {
    "colab": {
     "base_uri": "https://localhost:8080/"
    },
    "id": "VjXhWlpOUO5k",
    "outputId": "f253cd52-c4df-428d-cdcb-34b4e27c3867"
   },
   "outputs": [
    {
     "data": {
      "text/plain": [
       "<tf.Tensor: shape=(5,), dtype=int64, numpy=array([0, 0, 0, 1, 1])>"
      ]
     },
     "execution_count": 31,
     "metadata": {},
     "output_type": "execute_result"
    }
   ],
   "source": [
    "train_labels_batch"
   ]
  },
  {
   "cell_type": "code",
   "execution_count": null,
   "metadata": {
    "id": "nIqFkfVYUVME"
   },
   "outputs": [],
   "source": [
    "hub_layer = hub.KerasLayer(\"https://kaggle.com/models/google/gnews-swivel/frameworks/TensorFlow2/variations/tf2-preview-20dim/versions/1\", output_shape=[20],\n",
    "                           input_shape=[], dtype=tf.string,trainable=True)"
   ]
  },
  {
   "cell_type": "code",
   "execution_count": null,
   "metadata": {
    "colab": {
     "base_uri": "https://localhost:8080/"
    },
    "id": "fvi6Y1fQaVbz",
    "outputId": "7205fa39-8a13-4056-b264-550cec4e26e5"
   },
   "outputs": [
    {
     "data": {
      "text/plain": [
       "<tf.Tensor: shape=(3, 20), dtype=float32, numpy=\n",
       "array([[ 1.765786  , -3.882232  ,  3.9134233 , -1.5557289 , -3.3362343 ,\n",
       "        -1.7357955 , -1.9954445 ,  1.2989551 ,  5.081598  , -1.1041286 ,\n",
       "        -2.0503852 , -0.72675157, -0.65675956,  0.24436149, -3.7208383 ,\n",
       "         2.0954835 ,  2.2969332 , -2.0689783 , -2.9489717 , -1.1315987 ],\n",
       "       [ 1.8804485 , -2.5852382 ,  3.4066997 ,  1.0982676 , -4.056685  ,\n",
       "        -4.891284  , -2.785554  ,  1.3874227 ,  3.8476458 , -0.9256538 ,\n",
       "        -1.896706  ,  1.2113281 ,  0.11474707,  0.76209456, -4.8791065 ,\n",
       "         2.906149  ,  4.7087674 , -2.3652055 , -3.5015898 , -1.6390051 ],\n",
       "       [ 0.71152234, -0.6353217 ,  1.7385626 , -1.1168286 , -0.5451594 ,\n",
       "        -1.1808156 ,  0.09504455,  1.4653089 ,  0.66059524,  0.79308075,\n",
       "        -2.2268345 ,  0.07446612, -1.4075904 , -0.70645386, -1.907037  ,\n",
       "         1.4419787 ,  1.9551861 , -0.42660055, -2.8022065 ,  0.43727064]],\n",
       "      dtype=float32)>"
      ]
     },
     "execution_count": 33,
     "metadata": {},
     "output_type": "execute_result"
    }
   ],
   "source": [
    "hub_layer(train_example_batch[:3])"
   ]
  },
  {
   "cell_type": "code",
   "execution_count": null,
   "metadata": {
    "colab": {
     "base_uri": "https://localhost:8080/"
    },
    "id": "V5WaNl5cUbLH",
    "outputId": "34df6de7-a190-40d8-a0a1-9d8022e046ea"
   },
   "outputs": [
    {
     "name": "stdout",
     "output_type": "stream",
     "text": [
      "Model: \"sequential_3\"\n",
      "_________________________________________________________________\n",
      " Layer (type)                Output Shape              Param #   \n",
      "=================================================================\n",
      " keras_layer_3 (KerasLayer)  (None, 20)                400020    \n",
      "                                                                 \n",
      " dense_6 (Dense)             (None, 16)                336       \n",
      "                                                                 \n",
      " dense_7 (Dense)             (None, 1)                 17        \n",
      "                                                                 \n",
      "=================================================================\n",
      "Total params: 400373 (1.53 MB)\n",
      "Trainable params: 400373 (1.53 MB)\n",
      "Non-trainable params: 0 (0.00 Byte)\n",
      "_________________________________________________________________\n"
     ]
    }
   ],
   "source": [
    "model = tf.keras.Sequential()\n",
    "model.add(hub_layer)\n",
    "model.add(tf.keras.layers.Dense(16, activation='relu'))\n",
    "model.add(tf.keras.layers.Dense(1, activation='sigmoid'))\n",
    "\n",
    "model.summary()"
   ]
  },
  {
   "cell_type": "code",
   "execution_count": null,
   "metadata": {
    "id": "Wt4RXJQEWMu3"
   },
   "outputs": [],
   "source": [
    "model.compile(optimizer='adam',loss=tf.keras.losses.BinaryCrossentropy(from_logits=True),metrics=['accuracy'])"
   ]
  },
  {
   "cell_type": "code",
   "execution_count": null,
   "metadata": {
    "colab": {
     "base_uri": "https://localhost:8080/"
    },
    "id": "QA3Y2-W6XBdy",
    "outputId": "128be7fa-716c-4133-c87c-addaf1e259c6"
   },
   "outputs": [
    {
     "name": "stdout",
     "output_type": "stream",
     "text": [
      "Epoch 1/20\n"
     ]
    },
    {
     "name": "stderr",
     "output_type": "stream",
     "text": [
      "/usr/local/lib/python3.10/dist-packages/keras/src/backend.py:5818: UserWarning: \"`binary_crossentropy` received `from_logits=True`, but the `output` argument was produced by a Sigmoid activation and thus does not represent logits. Was this intended?\n",
      "  output, from_logits = _get_logits(\n"
     ]
    },
    {
     "name": "stdout",
     "output_type": "stream",
     "text": [
      "150/150 [==============================] - 7s 39ms/step - loss: 0.6163 - accuracy: 0.6605 - val_loss: 0.5566 - val_accuracy: 0.7277\n",
      "Epoch 2/20\n",
      "150/150 [==============================] - 4s 23ms/step - loss: 0.5008 - accuracy: 0.7644 - val_loss: 0.4628 - val_accuracy: 0.7940\n",
      "Epoch 3/20\n",
      "150/150 [==============================] - 5s 32ms/step - loss: 0.4019 - accuracy: 0.8283 - val_loss: 0.3905 - val_accuracy: 0.8319\n",
      "Epoch 4/20\n",
      "150/150 [==============================] - 3s 21ms/step - loss: 0.3234 - accuracy: 0.8679 - val_loss: 0.3446 - val_accuracy: 0.8525\n",
      "Epoch 5/20\n",
      "150/150 [==============================] - 4s 23ms/step - loss: 0.2679 - accuracy: 0.8955 - val_loss: 0.3199 - val_accuracy: 0.8665\n",
      "Epoch 6/20\n",
      "150/150 [==============================] - 5s 32ms/step - loss: 0.2287 - accuracy: 0.9136 - val_loss: 0.3062 - val_accuracy: 0.8724\n",
      "Epoch 7/20\n",
      "150/150 [==============================] - 4s 23ms/step - loss: 0.1967 - accuracy: 0.9266 - val_loss: 0.3008 - val_accuracy: 0.8740\n",
      "Epoch 8/20\n",
      "150/150 [==============================] - 4s 24ms/step - loss: 0.1710 - accuracy: 0.9393 - val_loss: 0.3021 - val_accuracy: 0.8775\n",
      "Epoch 9/20\n",
      "150/150 [==============================] - 5s 35ms/step - loss: 0.1476 - accuracy: 0.9497 - val_loss: 0.3035 - val_accuracy: 0.8788\n",
      "Epoch 10/20\n",
      "150/150 [==============================] - 4s 26ms/step - loss: 0.1289 - accuracy: 0.9578 - val_loss: 0.3184 - val_accuracy: 0.8730\n",
      "Epoch 11/20\n",
      "150/150 [==============================] - 4s 24ms/step - loss: 0.1122 - accuracy: 0.9646 - val_loss: 0.3219 - val_accuracy: 0.8732\n",
      "Epoch 12/20\n",
      "150/150 [==============================] - 5s 29ms/step - loss: 0.0968 - accuracy: 0.9724 - val_loss: 0.3310 - val_accuracy: 0.8760\n",
      "Epoch 13/20\n",
      "150/150 [==============================] - 4s 24ms/step - loss: 0.0834 - accuracy: 0.9774 - val_loss: 0.3434 - val_accuracy: 0.8765\n",
      "Epoch 14/20\n",
      "150/150 [==============================] - 4s 23ms/step - loss: 0.0716 - accuracy: 0.9814 - val_loss: 0.3591 - val_accuracy: 0.8748\n",
      "Epoch 15/20\n",
      "150/150 [==============================] - 4s 24ms/step - loss: 0.0607 - accuracy: 0.9854 - val_loss: 0.3869 - val_accuracy: 0.8700\n",
      "Epoch 16/20\n",
      "150/150 [==============================] - 4s 23ms/step - loss: 0.0523 - accuracy: 0.9887 - val_loss: 0.4012 - val_accuracy: 0.8699\n",
      "Epoch 17/20\n",
      "150/150 [==============================] - 5s 29ms/step - loss: 0.0440 - accuracy: 0.9913 - val_loss: 0.4162 - val_accuracy: 0.8700\n",
      "Epoch 18/20\n",
      "150/150 [==============================] - 3s 21ms/step - loss: 0.0368 - accuracy: 0.9941 - val_loss: 0.4367 - val_accuracy: 0.8698\n",
      "Epoch 19/20\n",
      "150/150 [==============================] - 3s 21ms/step - loss: 0.0304 - accuracy: 0.9958 - val_loss: 0.4605 - val_accuracy: 0.8679\n",
      "Epoch 20/20\n",
      "150/150 [==============================] - 5s 30ms/step - loss: 0.0251 - accuracy: 0.9971 - val_loss: 0.4825 - val_accuracy: 0.8672\n"
     ]
    }
   ],
   "source": [
    "history=model.fit(train_data.shuffle(10000).batch(100),epochs=20,validation_data=val_data.batch(100),verbose=1)"
   ]
  },
  {
   "cell_type": "code",
   "execution_count": null,
   "metadata": {
    "colab": {
     "base_uri": "https://localhost:8080/"
    },
    "id": "HIptEtmYXrSd",
    "outputId": "62078bea-e0fe-4671-ec1e-72f8ba1498ca"
   },
   "outputs": [
    {
     "name": "stdout",
     "output_type": "stream",
     "text": [
      "250/250 - 2s - loss: 0.5259 - accuracy: 0.8478 - 2s/epoch - 10ms/step\n"
     ]
    },
    {
     "data": {
      "text/plain": [
       "[0.525913655757904, 0.8478400111198425]"
      ]
     },
     "execution_count": 37,
     "metadata": {},
     "output_type": "execute_result"
    }
   ],
   "source": [
    "results = model.evaluate(test_data.batch(100), verbose=2)\n",
    "results\n"
   ]
  },
  {
   "cell_type": "code",
   "execution_count": null,
   "metadata": {
    "id": "wKG9m98gZepR"
   },
   "outputs": [],
   "source": []
  }
 ],
 "metadata": {
  "colab": {
   "provenance": []
  },
  "kernelspec": {
   "display_name": "Python 3 (ipykernel)",
   "language": "python",
   "name": "python3"
  },
  "language_info": {
   "codemirror_mode": {
    "name": "ipython",
    "version": 3
   },
   "file_extension": ".py",
   "mimetype": "text/x-python",
   "name": "python",
   "nbconvert_exporter": "python",
   "pygments_lexer": "ipython3",
   "version": "3.12.2"
  }
 },
 "nbformat": 4,
 "nbformat_minor": 4
}
